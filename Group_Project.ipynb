{
 "cells": [
  {
   "cell_type": "markdown",
   "id": "a38d3ecb-409d-43a9-bc80-6b43430bdd0f",
   "metadata": {},
   "source": [
    "Part One"
   ]
  },
  {
   "cell_type": "code",
   "execution_count": null,
   "id": "80ff12e7-5fea-4db8-920a-bec7f3a0dbb1",
   "metadata": {},
   "outputs": [],
   "source": [
    "# Reading in the file\n",
    "import numpy as np\n",
    "import scipy as sp\n",
    "import matplotlib.pyplot as plt\n",
    "from scipy.optimize import curve_fit\n",
    "\n",
    "#Elton - doing function and fitting of sin waves \n",
    "#looked at https://stackoverflow.com/questions/16716302/how-do-i-fit-a-sine-curve-to-my-data-with-pylab-and-numpy for more help on this \n",
    "#a = amp, b = frequency, c is phase, offset is d\n",
    "#simple formula for sin where there are 4 parts of the sin function\n",
    "#def model(x, a, b, c):\n",
    "def model(x, a, b, c, d):\n",
    "    return a * np.sin((b * x) + c) + d"
   ]
  },
  {
   "cell_type": "markdown",
   "id": "821fbae4",
   "metadata": {},
   "source": [
    "Part Two"
   ]
  },
  {
   "cell_type": "code",
   "execution_count": null,
   "id": "10b0b2e7",
   "metadata": {
    "scrolled": true
   },
   "outputs": [],
   "source": [
    "#Elton - parsed text file to use for data and plotting/fitting data\n",
    "x_data = np.loadtxt(\"ASTR19_S22_group_project_data.txt\",skiprows=3, usecols=(0))\n",
    "y_data = np.loadtxt(\"ASTR19_S22_group_project_data.txt\",skiprows=3, usecols=(2))\n",
    "\n",
    "plt.errorbar(x_data, y_data)\n",
    "\n",
    "d_mean = np.mean(y_data) \n",
    "p_zero = [4.3, 2.91, -.9, d_mean] #Carolyn - tweaked parameters to get a more accurate fit\n",
    "popt = curve_fit(model, x_data, y_data, p0 = p_zero)\n",
    "#the * removes the brackets of this array \n",
    "fit = model(x_data, *p_zero)\n",
    "plt.plot(x_data, fit, color = \"orange\")\n",
    "plt.title('Fitted Model Plot')\n",
    "plt.xlabel(\"Time(days)\")\n",
    "plt.ylabel(\"Height(ft)\")\n",
    "plt.savefig(\"fit.pdf\", format=\"pdf\", bbox_inches = \"tight\")"
   ]
  },
  {
   "cell_type": "markdown",
   "id": "8ac5c967",
   "metadata": {},
   "source": [
    "Part Three"
   ]
  },
  {
   "cell_type": "code",
   "execution_count": null,
   "id": "725128f9-7999-484b-bb06-2969523ef2ca",
   "metadata": {},
   "outputs": [],
   "source": [
    "#Elizabeth - getting residuals using the model data and plotting them\n",
    "residuals = (y_data - fit)\n",
    "plt.errorbar(x_data, residuals)\n",
    "\n",
    "#Angel-adding labels\n",
    "plt.title(\"Plot of Residuals Using Errorbar\")\n",
    "plt.xlabel(\"Time(days)\")\n",
    "plt.ylabel(\"Y_Data - Y_Fit\")\n",
    "plt.savefig(\"residualsErrorbar.pdf\", format=\"pdf\", bbox_inches = \"tight\")\n",
    "plt.show()\n",
    "\n",
    "#Angel - calculated the std, error, and intrinsic scatter\n",
    "resStd = residuals.std()\n",
    "error = np.sqrt(np.mean(np.square(((y_data - fit) / y_data)), axis=0))\n",
    "#Looked at https://link.springer.com/chapter/10.1007/978-1-4939-6572-4_11#:~:text=Intrinsic%20scatter%3A%20An%20uncertainty%20of,%3D%20%CE%B7%20i%20%2B%CE%B5%20i%20.\n",
    "intrinsic = fit.var() - error.var()\n",
    "\n",
    "print(\"Standard deviation of the residuals:\", resStd)\n",
    "print(\"Experimental Error:\", str(error) + \"%\")\n",
    "print(\"Intrinsic scatter:\", intrinsic)\n",
    "\n",
    "#Elizabeth - making residuals histogram\n",
    "plt.hist(residuals, bins=20)\n",
    "\n",
    "#Kali-adding labels\n",
    "plt.title('Histogram of Residuals')\n",
    "plt.xlabel(\"Time(days)\")\n",
    "plt.ylabel(\"Height(ft)\")\n",
    "plt.savefig(\"residualsHist.pdf\", format=\"pdf\", bbox_inches = \"tight\")"
   ]
  },
  {
   "cell_type": "markdown",
   "id": "ceae11b3",
   "metadata": {},
   "source": [
    "Part Four"
   ]
  },
  {
   "cell_type": "code",
   "execution_count": null,
   "id": "ac000366-36e3-4278-b19a-812ca103cf7c",
   "metadata": {},
   "outputs": [],
   "source": [
    "# Angel - reading in the data with a 2ft outlier and std of the tsunami and plotting new residuals\n",
    "new_y = np.loadtxt(\"ASTR19_S22_group_project_data-Copy1.txt\",skiprows=3, usecols=(2))\n",
    "popt = curve_fit(model, x_data, new_y, p0 = p_zero)\n",
    "print(\"Standard deviation of the Tsunami in regards to fitted data:\", fit.std() - new_y.std())\n",
    "new_res = (new_y - fit)\n",
    "\n",
    "#the * removes the brackets of this array \n",
    "plt.hist(new_res, bins=20)\n",
    "\n",
    "#Kali-adding labels\n",
    "plt.title('Histogram of Residuals with Outlier')\n",
    "plt.xlabel(\"Time(days)\")\n",
    "plt.ylabel(\"Height(ft)\")\n",
    "plt.savefig(\"residualOutlierHist.pdf\", format= \"pdf\", bbox_inches = \"tight\")"
   ]
  },
  {
   "cell_type": "code",
   "execution_count": null,
   "id": "6b55063c",
   "metadata": {},
   "outputs": [],
   "source": []
  }
 ],
 "metadata": {
  "kernelspec": {
   "display_name": "Python 3 (ipykernel)",
   "language": "python",
   "name": "python3"
  },
  "language_info": {
   "codemirror_mode": {
    "name": "ipython",
    "version": 3
   },
   "file_extension": ".py",
   "mimetype": "text/x-python",
   "name": "python",
   "nbconvert_exporter": "python",
   "pygments_lexer": "ipython3",
   "version": "3.9.7"
  }
 },
 "nbformat": 4,
 "nbformat_minor": 5
}
